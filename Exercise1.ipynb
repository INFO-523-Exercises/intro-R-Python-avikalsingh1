{
  "cells": [
    {
      "cell_type": "markdown",
      "metadata": {},
      "source": [
        "Intro to Python"
      ]
    },
    {
      "cell_type": "markdown",
      "metadata": {},
      "source": [
        "Learning elementary data types "
      ]
    },
    {
      "cell_type": "code",
      "execution_count": 1,
      "metadata": {},
      "outputs": [
        {
          "name": "stdout",
          "output_type": "stream",
          "text": [
            "4 <class 'int'>\n",
            "True <class 'bool'>\n",
            "3.7 <class 'float'>\n",
            "This is a string <class 'str'>\n"
          ]
        }
      ],
      "source": [
        "x = 4              # integer\n",
        "print(x, type(x))\n",
        "\n",
        "y = True           # boolean (True, False)\n",
        "print(y, type(y))\n",
        "\n",
        "z = 3.7            # floating point\n",
        "print(z, type(z))\n",
        "\n",
        "s = \"This is a string\"    # string\n",
        "print(s, type(s))"
      ]
    },
    {
      "cell_type": "markdown",
      "metadata": {},
      "source": [
        "Learning Arithmetic Operations"
      ]
    },
    {
      "cell_type": "code",
      "execution_count": 2,
      "metadata": {},
      "outputs": [
        {
          "name": "stdout",
          "output_type": "stream",
          "text": [
            "18 8 12 6 18 2\n",
            "3.7 1.7000000000000002 1.2333333333333334 1.0 13.690000000000001\n",
            "3.7 13.690000000000001 4 3\n"
          ]
        }
      ],
      "source": [
        "x = 4            # integer\n",
        "x1 = x + 4       # addition \n",
        "x2 = x * 3       # multiplication\n",
        "x += 2           # equivalent to x = x + 2\n",
        "x3 = x       \n",
        "x *= 3           # equivalent to x = x * 3\n",
        "x4 = x      \n",
        "x5 = x % 4       # modulo (remainder) operator\n",
        "\n",
        "z = 3.7          # floating point number\n",
        "z1 = z - 2       # subtraction\n",
        "z2 = z / 3       # division\n",
        "z3 = z // 3      # integer division\n",
        "z4 = z ** 2      # square of z \n",
        "z5 = z4 ** 0.5   # square root\n",
        "z6 = pow(z,2)    # equivalent to square of z\n",
        "z7 = round(z)    # rounding z to its nearest integer \n",
        "z8 = int(z)      # type casting float to int\n",
        "\n",
        "print(x,x1,x2,x3,x4,x5)\n",
        "print(z,z1,z2,z3,z4)\n",
        "print(z5,z6,z7,z8)"
      ]
    },
    {
      "cell_type": "markdown",
      "metadata": {},
      "source": [
        " Using some functions provided by the math module"
      ]
    },
    {
      "cell_type": "code",
      "execution_count": 3,
      "metadata": {},
      "outputs": [
        {
          "name": "stdout",
          "output_type": "stream",
          "text": [
            "2.0\n",
            "16.0\n",
            "54.598150033144236\n",
            "2.0\n",
            "4.0\n",
            "24\n",
            "1\n",
            "0\n",
            "0\n",
            "3.6739403974420594e-16\n",
            "0.9999999869751758\n",
            "True\n",
            "True\n"
          ]
        }
      ],
      "source": [
        "import math\n",
        "\n",
        "x = 4\n",
        "print(math.sqrt(x))      # sqrt(4) = 2\n",
        "print(math.pow(x,2))     # 4**2 = 16\n",
        "print(math.exp(x))       # exp(4) = 54.6\n",
        "print(math.log(x,2))     # log based 2  (default is natural logarithm)\n",
        "print(math.fabs(-4))     # absolute value\n",
        "print(math.factorial(x)) # 4! = 4 x 3 x 2 x 1 = 24\n",
        "\n",
        "z = 0.2\n",
        "print(math.ceil(z))      # ceiling function\n",
        "print(math.floor(z))     # floor function\n",
        "print(math.trunc(z))     # truncate function\n",
        "\n",
        "z = 3*math.pi            # math.pi = 3.141592653589793 \n",
        "print(math.sin(z))       # sine function\n",
        "print(math.tanh(z))      # arctan function\n",
        "\n",
        "x = math.nan             # not a number\n",
        "print(math.isnan(x))\n",
        "\n",
        "x = math.inf             # infinity\n",
        "print(math.isinf(x))"
      ]
    },
    {
      "cell_type": "markdown",
      "metadata": {},
      "source": [
        "Using some logical operations for booleans"
      ]
    },
    {
      "cell_type": "code",
      "execution_count": 4,
      "metadata": {},
      "outputs": [
        {
          "name": "stdout",
          "output_type": "stream",
          "text": [
            "False\n",
            "True\n",
            "True\n"
          ]
        }
      ],
      "source": [
        "y1 = True\n",
        "y2 = False\n",
        "\n",
        "print(y1 and y2)       # logical AND\n",
        "print(y1 or y2)        # logical OR\n",
        "print(y1 and not y2)   # logical NOT"
      ]
    },
    {
      "cell_type": "markdown",
      "metadata": {},
      "source": [
        "Learning some String operations and functions"
      ]
    },
    {
      "cell_type": "code",
      "execution_count": 5,
      "metadata": {},
      "outputs": [
        {
          "name": "stdout",
          "output_type": "stream",
          "text": [
            "his\n",
            "4\n",
            "Length of string is 4\n",
            "THIS\n",
            "this\n",
            "This\n",
            "This is another string\n",
            "That at a string\n",
            "8\n",
            "True\n",
            "True\n",
            "False\n",
            "This is a string too\n",
            "This This This \n"
          ]
        }
      ],
      "source": [
        "s1 = \"This\"\n",
        "\n",
        "print(s1[1:])                    # print last three characters \n",
        "print(len(s1))                               # get the string length\n",
        "print(\"Length of string is \" + str(len(s1))) # type casting int to str\n",
        "print(s1.upper())                            # convert to upper case\n",
        "print(s1.lower())                            # convert to lower case\n",
        "\n",
        "s2 = \"This is a string\"\n",
        "words = s2.split(' ')             # split the string into words\n",
        "print(words[0])\n",
        "print(s2.replace('a','another'))  # replace \"a\" with \"another\"\n",
        "print(s2.replace('is','at'))      # replace \"is\" with \"at\"\n",
        "print(s2.find(\"a\"))               # find the position of \"a\" in s2\n",
        "print(s1 in s2)                   # check if s1 is a substring of s2\n",
        "\n",
        "print(s1 == 'This')               # equality comparison\n",
        "print(s1 < 'That')                # inequality comparison\n",
        "print(s2 + \" too\")                # string concatenation\n",
        "print((s1 + \" \")* 3)              # replicate the string 3 times"
      ]
    },
    {
      "cell_type": "markdown",
      "metadata": {},
      "source": [
        "Learning Compound Data Types\n",
        "1. List\n"
      ]
    },
    {
      "cell_type": "code",
      "execution_count": 6,
      "metadata": {},
      "outputs": [
        {
          "name": "stdout",
          "output_type": "stream",
          "text": [
            "<class 'list'>\n",
            "[1, 3, 5, 7, 9]\n",
            "[0, 2, 4, 6, 8]\n",
            "5\n",
            "[1, 3]\n",
            "[5, 7, 9]\n",
            "5\n",
            "25\n",
            "[1, 3, 5, 7, 9, 11]\n",
            "11\n",
            "[1, 3, 5, 7, 9]\n",
            "[1, 3, 5, 7, 9, 11, 13, 15]\n",
            "[1, 3, 5, 7, 9, 1, 3, 5, 7, 9, 1, 3, 5, 7, 9]\n",
            "[1, 3, 4, 5, 7, 9]\n",
            "[9, 7, 5, 4, 3, 1]\n"
          ]
        }
      ],
      "source": [
        "intlist = [1, 3, 5, 7, 9]\n",
        "print(type(intlist))\n",
        "print(intlist)\n",
        "intlist2 = list(range(0,10,2))   # range[startvalue, endvalue, stepsize]\n",
        "print(intlist2)\n",
        "\n",
        "print(intlist[2])                # get the third element of the list\n",
        "print(intlist[:2])               # get the first two elements\n",
        "print(intlist[2:])               # get the last three elements of the list\n",
        "print(len(intlist))              # get the number of elements in the list\n",
        "print(sum(intlist))              # sums up elements of the list\n",
        "\n",
        "intlist.append(11)               # insert 11 to end of the list\n",
        "print(intlist)\n",
        "print(intlist.pop())             # remove last element of the list\n",
        "print(intlist)\n",
        "print(intlist + [11,13,15])      # concatenate two lists\n",
        "print(intlist * 3)               # replicate the list\n",
        "intlist.insert(2,4)              # insert item 4 at index 2  \n",
        "print(intlist)\n",
        "intlist.sort(reverse=True)       # sort elements in descending order\n",
        "print(intlist)"
      ]
    },
    {
      "cell_type": "code",
      "execution_count": 7,
      "metadata": {},
      "outputs": [
        {
          "name": "stdout",
          "output_type": "stream",
          "text": [
            "['this', 'is', 'a', 'list']\n",
            "<class 'list'>\n",
            "True\n",
            "a\n",
            "['this', 'is']\n",
            "['a', 'list']\n",
            "this is a list too\n",
            "['this', 'a', 'list', 'too']\n"
          ]
        }
      ],
      "source": [
        "mylist = ['this', 'is', 'a', 'list']\n",
        "print(mylist)\n",
        "print(type(mylist))\n",
        "\n",
        "print(\"list\" in mylist)          # check whether \"list\" is in mylist\n",
        "print(mylist[2])                 # show the 3rd element of the list\n",
        "print(mylist[:2])                # show the first two elements of the list\n",
        "print(mylist[2:])                # show the last two elements of the list\n",
        "mylist.append(\"too\")             # insert element to end of the list\n",
        "\n",
        "separator = \" \"\n",
        "print(separator.join(mylist))    # merge all elements of the list into a string\n",
        "\n",
        "mylist.remove(\"is\")              # remove element from list\n",
        "print(mylist)"
      ]
    },
    {
      "cell_type": "markdown",
      "metadata": {},
      "source": [
        "2. Dictionary"
      ]
    },
    {
      "cell_type": "code",
      "execution_count": 8,
      "metadata": {},
      "outputs": [
        {
          "name": "stdout",
          "output_type": "stream",
          "text": [
            "{'MI': 'Michigan', 'MN': 'Minnesota', 'TX': 'Texas', 'CA': 'California'}\n",
            "dict_keys(['MI', 'MN', 'TX', 'CA'])\n",
            "dict_values(['Michigan', 'Minnesota', 'Texas', 'California'])\n",
            "4\n",
            "Michigan\n",
            "False\n",
            "True\n",
            "{'apples': 3, 'oranges': 4, 'bananas': 2, 'cherries': 10}\n",
            "['apples', 'bananas', 'cherries', 'oranges']\n",
            "[('apples', 3), ('bananas', 2), ('cherries', 10), ('oranges', 4)]\n",
            "[('bananas', 2), ('apples', 3), ('oranges', 4), ('cherries', 10)]\n"
          ]
        }
      ],
      "source": [
        "abbrev = {}\n",
        "abbrev['MI'] = \"Michigan\"\n",
        "abbrev['MN'] = \"Minnesota\"\n",
        "abbrev['TX'] = \"Texas\"\n",
        "abbrev['CA'] = \"California\"\n",
        "\n",
        "print(abbrev)\n",
        "print(abbrev.keys())            # get the keys of the dictionary\n",
        "print(abbrev.values())          # get the values of the dictionary\n",
        "print(len(abbrev))              # get number of key-value pairs\n",
        "\n",
        "print(abbrev.get('MI'))\n",
        "print(\"FL\" in abbrev)\n",
        "print(\"CA\" in abbrev)\n",
        "\n",
        "keys = ['apples', 'oranges', 'bananas', 'cherries']\n",
        "values = [3, 4, 2, 10]\n",
        "fruits = dict(zip(keys, values))\n",
        "print(fruits)\n",
        "print(sorted(fruits))     # sort keys of dictionary\n",
        "\n",
        "from operator import itemgetter\n",
        "print(sorted(fruits.items(), key=itemgetter(0)))    # sort by key of dictionary\n",
        "print(sorted(fruits.items(), key=itemgetter(1)))    # sort by value of dictionary"
      ]
    },
    {
      "cell_type": "markdown",
      "metadata": {},
      "source": [
        "3. Tuple"
      ]
    },
    {
      "cell_type": "code",
      "execution_count": 9,
      "metadata": {},
      "outputs": [
        {
          "name": "stdout",
          "output_type": "stream",
          "text": [
            "('MI', 'Michigan', 'Lansing')\n",
            "('Michigan', 'Lansing')\n",
            "[('MI', 'Michigan', 'Lansing'), ('CA', 'California', 'Sacramento'), ('TX', 'Texas', 'Austin')]\n",
            "('TX', 'Texas', 'Austin')\n",
            "('TX', 'Texas', 'Austin')\n",
            "('Texas', 'Austin')\n",
            "[('TX', 'Texas', 'Austin'), ('MI', 'Michigan', 'Lansing'), ('CA', 'California', 'Sacramento')]\n"
          ]
        }
      ],
      "source": [
        "MItuple = ('MI', 'Michigan', 'Lansing')\n",
        "CAtuple = ('CA', 'California', 'Sacramento')\n",
        "TXtuple = ('TX', 'Texas', 'Austin')\n",
        "\n",
        "print(MItuple)\n",
        "print(MItuple[1:])\n",
        "\n",
        "states = [MItuple, CAtuple, TXtuple]    # this will create a list of tuples\n",
        "print(states)\n",
        "print(states[2])\n",
        "print(states[2][:])\n",
        "print(states[2][1:])\n",
        "\n",
        "states.sort(key=lambda state: state[2])  # sort the states by their capital cities\n",
        "print(states)"
      ]
    },
    {
      "cell_type": "markdown",
      "metadata": {},
      "source": [
        "Understanding Control Flow Statements\n",
        "1. if-else"
      ]
    },
    {
      "cell_type": "code",
      "execution_count": 10,
      "metadata": {},
      "outputs": [
        {
          "name": "stdout",
          "output_type": "stream",
          "text": [
            "x = 10 is even\n",
            "x = 10 is positive\n"
          ]
        }
      ],
      "source": [
        "# using if-else statement\n",
        "\n",
        "x = 10\n",
        "\n",
        "if x % 2 == 0:\n",
        "    print(\"x =\", x, \"is even\")\n",
        "else:\n",
        "    print(\"x =\", x, \"is odd\")\n",
        "\n",
        "if x > 0:\n",
        "    print(\"x =\", x, \"is positive\")\n",
        "elif x < 0:\n",
        "    print(\"x =\", x, \"is negative\")\n",
        "else:\n",
        "    print(\"x =\", x, \"is neither positive nor negative\")"
      ]
    },
    {
      "cell_type": "markdown",
      "metadata": {},
      "source": [
        "2. for loop"
      ]
    },
    {
      "cell_type": "code",
      "execution_count": 11,
      "metadata": {},
      "outputs": [
        {
          "name": "stdout",
          "output_type": "stream",
          "text": [
            "that\n",
            "at\n",
            "a\n",
            "latt\n",
            "[4, 2, 1, 4]\n",
            "['Austin', 'Lansing', 'Sacramento']\n",
            "['apples', 'oranges', 'bananas', 'cherries']\n"
          ]
        }
      ],
      "source": [
        "# using for loop with a list\n",
        "\n",
        "mylist = ['this', 'is', 'a', 'list']\n",
        "for word in mylist:\n",
        "    print(word.replace(\"is\", \"at\"))\n",
        "    \n",
        "mylist2 = [len(word) for word in mylist]   # number of characters in each word\n",
        "print(mylist2)\n",
        "\n",
        "# using for loop with list of tuples\n",
        "\n",
        "states = [('MI', 'Michigan', 'Lansing'),('CA', 'California', 'Sacramento'),\n",
        "          ('TX', 'Texas', 'Austin')]\n",
        "\n",
        "sorted_capitals = [state[2] for state in states]\n",
        "sorted_capitals.sort()\n",
        "print(sorted_capitals)\n",
        "\n",
        "# using for loop with dictionary\n",
        "\n",
        "fruits = {'apples': 3, 'oranges': 4, 'bananas': 2, 'cherries': 10}\n",
        "fruitnames = [k for (k,v) in fruits.items()]\n",
        "print(fruitnames)"
      ]
    },
    {
      "cell_type": "markdown",
      "metadata": {},
      "source": [
        "3. while loop"
      ]
    },
    {
      "cell_type": "code",
      "execution_count": 12,
      "metadata": {},
      "outputs": [
        {
          "name": "stdout",
          "output_type": "stream",
          "text": [
            "[-10, -9, -8, -7, -6, -5, -4, -3, -2, -1, 0, 1, 2, 3, 4, 5, 6, 7, 8, 9]\n",
            "First non-negative number: 0\n"
          ]
        }
      ],
      "source": [
        "# using while loop\n",
        "\n",
        "mylist = list(range(-10,10))\n",
        "print(mylist)\n",
        "\n",
        "i = 0\n",
        "while (mylist[i] < 0):\n",
        "    i = i + 1\n",
        "    \n",
        "print(\"First non-negative number:\", mylist[i])"
      ]
    },
    {
      "cell_type": "markdown",
      "metadata": {},
      "source": [
        "Understanding User-Defined Functions\n",
        "1. lambda function"
      ]
    },
    {
      "cell_type": "code",
      "execution_count": 13,
      "metadata": {},
      "outputs": [
        {
          "name": "stdout",
          "output_type": "stream",
          "text": [
            "11\n"
          ]
        }
      ],
      "source": [
        "myfunc = lambda x: 3*x**2 - 2*x + 3      # example of an unnamed quadratic function\n",
        "\n",
        "print(myfunc(2))"
      ]
    },
    {
      "cell_type": "markdown",
      "metadata": {},
      "source": [
        "2. Named Function"
      ]
    },
    {
      "cell_type": "code",
      "execution_count": 14,
      "metadata": {},
      "outputs": [
        {
          "name": "stdout",
          "output_type": "stream",
          "text": [
            "[-11, 12, 23, 45, 71]\n"
          ]
        }
      ],
      "source": [
        "import math\n",
        "\n",
        "# The following function will discard missing values from a list\n",
        "def discard(inlist, sortFlag=False):    # default value for sortFlag is False \n",
        "    outlist = []\n",
        "    for item in inlist:\n",
        "        if not math.isnan(item):\n",
        "            outlist.append(item)\n",
        "            \n",
        "    if sortFlag:\n",
        "        outlist.sort()\n",
        "    return outlist\n",
        "\n",
        "mylist = [12, math.nan, 23, -11, 45, math.nan, 71]\n",
        "\n",
        "print(discard(mylist,True))    "
      ]
    },
    {
      "cell_type": "markdown",
      "metadata": {},
      "source": [
        "Reading/Writing data from files"
      ]
    },
    {
      "cell_type": "code",
      "execution_count": 15,
      "metadata": {},
      "outputs": [
        {
          "name": "stdout",
          "output_type": "stream",
          "text": [
            "State= Michigan ( MI ) Capital: Lansing\n",
            "\n",
            "State= California ( CA ) Capital: Sacramento\n",
            "\n",
            "State= Texas ( TX ) Capital: Austin\n",
            "\n",
            "State= Minnesota ( MN ) Capital: St Paul\n"
          ]
        }
      ],
      "source": [
        "states = [('MI', 'Michigan', 'Lansing'),('CA', 'California', 'Sacramento'),\n",
        "          ('TX', 'Texas', 'Austin'), ('MN', 'Minnesota', 'St Paul')]\n",
        "\n",
        "with open('states.txt', 'w') as f:\n",
        "    f.write('\\n'.join('%s,%s,%s' % state for state in states))\n",
        "    \n",
        "with open('states.txt', 'r') as f:\n",
        "    for line in f:\n",
        "        fields = line.split(sep=',')    # split each line into its respective fields\n",
        "        print('State=',fields[1],'(',fields[0],')','Capital:', fields[2])"
      ]
    },
    {
      "cell_type": "markdown",
      "metadata": {},
      "source": [
        "Introduction to Numpy"
      ]
    },
    {
      "cell_type": "markdown",
      "metadata": {},
      "source": [
        "Creating ndarray"
      ]
    },
    {
      "cell_type": "code",
      "execution_count": 16,
      "metadata": {},
      "outputs": [
        {
          "name": "stdout",
          "output_type": "stream",
          "text": [
            "[1. 2. 3. 4. 5.]\n",
            "#Dimensions = 1\n",
            "Dimension = (5,)\n",
            "Size = 5\n",
            "Array type = float64 \n",
            "\n",
            "[[1 2]\n",
            " [3 4]\n",
            " [5 6]\n",
            " [7 8]]\n",
            "#Dimensions = 2\n",
            "Dimension = (4, 2)\n",
            "Size = 8\n",
            "Array type = int32 \n",
            "\n",
            "[['1' 'a' '3.0']\n",
            " ['2' 'b' '3.5']]\n",
            "#Dimensions = 2\n",
            "Dimension = (2, 3)\n",
            "Size = 6\n"
          ]
        }
      ],
      "source": [
        "import numpy as np\n",
        "\n",
        "oneDim = np.array([1.0,2,3,4,5])   # a 1-dimensional array (vector)\n",
        "print(oneDim)\n",
        "print(\"#Dimensions =\", oneDim.ndim)\n",
        "print(\"Dimension =\", oneDim.shape)\n",
        "print(\"Size =\", oneDim.size)\n",
        "print(\"Array type =\", oneDim.dtype, '\\n')\n",
        "\n",
        "twoDim = np.array([[1,2],[3,4],[5,6],[7,8]])  # a two-dimensional array (matrix)\n",
        "print(twoDim)\n",
        "print(\"#Dimensions =\", twoDim.ndim)\n",
        "print(\"Dimension =\", twoDim.shape)\n",
        "print(\"Size =\", twoDim.size)\n",
        "print(\"Array type =\", twoDim.dtype, '\\n')\n",
        "\n",
        "arrFromTuple = np.array([(1,'a',3.0),(2,'b',3.5)])  # create ndarray from tuple\n",
        "print(arrFromTuple)\n",
        "print(\"#Dimensions =\", arrFromTuple.ndim)\n",
        "print(\"Dimension =\", arrFromTuple.shape)\n",
        "print(\"Size =\", arrFromTuple.size)"
      ]
    },
    {
      "cell_type": "markdown",
      "metadata": {},
      "source": [
        "Using built in functions for numpy"
      ]
    },
    {
      "cell_type": "code",
      "execution_count": 17,
      "metadata": {},
      "outputs": [
        {
          "name": "stdout",
          "output_type": "stream",
          "text": [
            "Array of random numbers from a uniform distribution\n",
            "[0.49506058 0.63200409 0.2116523  0.54038414 0.62911497]\n",
            "\n",
            "Array of random numbers from a normal distribution\n",
            "[-1.04650423 -0.89503881  2.29282594  0.26912069  0.2209183 ]\n",
            "\n",
            "Array of integers between -10 and 10, with step size of 2\n",
            "[-10  -8  -6  -4  -2   0   2   4   6   8]\n",
            "\n",
            "2-dimensional array of integers from 0 to 11\n",
            "[[ 0  1  2  3]\n",
            " [ 4  5  6  7]\n",
            " [ 8  9 10 11]]\n",
            "\n",
            "Array of values between 0 and 1, split into 10 equally spaced values\n",
            "[0.         0.11111111 0.22222222 0.33333333 0.44444444 0.55555556\n",
            " 0.66666667 0.77777778 0.88888889 1.        ]\n",
            "\n",
            "Array of values from 10^-3 to 10^3\n",
            "[1.e-03 1.e-02 1.e-01 1.e+00 1.e+01 1.e+02 1.e+03]\n"
          ]
        }
      ],
      "source": [
        "print('Array of random numbers from a uniform distribution')\n",
        "print(np.random.rand(5))      # random numbers from a uniform distribution between [0,1]\n",
        "\n",
        "print('\\nArray of random numbers from a normal distribution')\n",
        "print(np.random.randn(5))     # random numbers from a normal distribution\n",
        "\n",
        "print('\\nArray of integers between -10 and 10, with step size of 2')\n",
        "print(np.arange(-10,10,2))    # similar to range, but returns ndarray instead of list\n",
        "\n",
        "print('\\n2-dimensional array of integers from 0 to 11')\n",
        "print(np.arange(12).reshape(3,4))  # reshape to a matrix\n",
        "\n",
        "print('\\nArray of values between 0 and 1, split into 10 equally spaced values')\n",
        "print(np.linspace(0,1,10))    # split interval [0,1] into 10 equally separated values\n",
        "\n",
        "print('\\nArray of values from 10^-3 to 10^3')\n",
        "print(np.logspace(-3,3,7))    # create ndarray with values from 10^-3 to 10^3"
      ]
    },
    {
      "cell_type": "code",
      "execution_count": 18,
      "metadata": {},
      "outputs": [
        {
          "name": "stdout",
          "output_type": "stream",
          "text": [
            "A 2 x 3 matrix of zeros\n",
            "[[0. 0. 0.]\n",
            " [0. 0. 0.]]\n",
            "\n",
            "A 3 x 2 matrix of ones\n",
            "[[1. 1.]\n",
            " [1. 1.]\n",
            " [1. 1.]]\n",
            "\n",
            "A 3 x 3 identity matrix\n",
            "[[1. 0. 0.]\n",
            " [0. 1. 0.]\n",
            " [0. 0. 1.]]\n"
          ]
        }
      ],
      "source": [
        "print('A 2 x 3 matrix of zeros')\n",
        "print(np.zeros((2,3)))        # a matrix of zeros\n",
        "\n",
        "print('\\nA 3 x 2 matrix of ones')\n",
        "print(np.ones((3,2)))         # a matrix of ones\n",
        "\n",
        "print('\\nA 3 x 3 identity matrix')\n",
        "print(np.eye(3))              # a 3 x 3 identity matrix"
      ]
    },
    {
      "cell_type": "markdown",
      "metadata": {},
      "source": [
        "Applying standard operations"
      ]
    },
    {
      "cell_type": "code",
      "execution_count": 19,
      "metadata": {},
      "outputs": [
        {
          "name": "stdout",
          "output_type": "stream",
          "text": [
            "x = [1 2 3 4 5]\n",
            "x + 1 = [2 3 4 5 6]\n",
            "x - 1 = [0 1 2 3 4]\n",
            "x * 2 = [ 2  4  6  8 10]\n",
            "x // 2 = [0 1 1 2 2]\n",
            "x ** 2 = [ 1  4  9 16 25]\n",
            "x % 2 = [1 0 1 0 1]\n",
            "1 / x = [1.         0.5        0.33333333 0.25       0.2       ]\n"
          ]
        }
      ],
      "source": [
        "x = np.array([1,2,3,4,5])\n",
        "\n",
        "print('x =', x)\n",
        "print('x + 1 =', x + 1)      # addition\n",
        "print('x - 1 =', x - 1)      # subtraction\n",
        "print('x * 2 =', x * 2)      # multiplication\n",
        "print('x // 2 =', x // 2)     # integer division\n",
        "print('x ** 2 =', x ** 2)     # square\n",
        "print('x % 2 =', x % 2)      # modulo  \n",
        "print('1 / x =', 1 / x)      # division"
      ]
    },
    {
      "cell_type": "code",
      "execution_count": 20,
      "metadata": {},
      "outputs": [
        {
          "name": "stdout",
          "output_type": "stream",
          "text": [
            "x = [ 2  4  6  8 10]\n",
            "y = [1 2 3 4 5]\n",
            "x + y = [ 3  6  9 12 15]\n",
            "x - y = [1 2 3 4 5]\n",
            "x * y = [ 2  8 18 32 50]\n",
            "x / y = [2. 2. 2. 2. 2.]\n",
            "x // y = [2 2 2 2 2]\n",
            "x ** y = [     2     16    216   4096 100000]\n"
          ]
        }
      ],
      "source": [
        "x = np.array([2,4,6,8,10])\n",
        "y = np.array([1,2,3,4,5])\n",
        "\n",
        "print('x =', x)\n",
        "print('y =', y)\n",
        "print('x + y =', x + y)      # element-wise addition\n",
        "print('x - y =', x - y)      # element-wise subtraction\n",
        "print('x * y =', x * y)      # element-wise multiplication \n",
        "print('x / y =', x / y)      # element-wise division\n",
        "print('x // y =', x // y)    # element-wise integer division \n",
        "print('x ** y =', x ** y)    # element-wise exponentiation"
      ]
    },
    {
      "cell_type": "markdown",
      "metadata": {},
      "source": [
        "Indexing and Slicing Numpy arrays"
      ]
    },
    {
      "cell_type": "code",
      "execution_count": 21,
      "metadata": {},
      "outputs": [
        {
          "name": "stdout",
          "output_type": "stream",
          "text": [
            "Before: x = [-5 -4 -3 -2 -1  0  1  2  3  4]\n",
            "        y = [-2 -1]\n",
            "After : y = [1000 1000]\n",
            "        x = [  -5   -4   -3 1000 1000    0    1    2    3    4] \n",
            "\n",
            "Before: x = [  -5   -4   -3 1000 1000    0    1    2    3    4]\n",
            "        z = [1000 1000]\n",
            "After : z = [500 500]\n",
            "        x = [  -5   -4   -3 1000 1000    0    1    2    3    4]\n"
          ]
        }
      ],
      "source": [
        "x = np.arange(-5,5)\n",
        "print('Before: x =', x)\n",
        "\n",
        "y = x[3:5]     # y is a slice, i.e., pointer to a subarray in x\n",
        "print('        y =', y)\n",
        "y[:] = 1000    # modifying the value of y will change x\n",
        "print('After : y =', y)\n",
        "print('        x =', x, '\\n')\n",
        "\n",
        "z = x[3:5].copy()   # makes a copy of the subarray\n",
        "print('Before: x =', x)\n",
        "print('        z =', z)\n",
        "z[:] = 500          # modifying the value of z will not affect x\n",
        "print('After : z =', z)\n",
        "print('        x =', x)"
      ]
    },
    {
      "cell_type": "markdown",
      "metadata": {},
      "source": [
        "Indexing elements of a list and ndarray"
      ]
    },
    {
      "cell_type": "code",
      "execution_count": 22,
      "metadata": {},
      "outputs": [
        {
          "name": "stdout",
          "output_type": "stream",
          "text": [
            "my2dlist = [[1, 2, 3, 4], [5, 6, 7, 8], [9, 10, 11, 12]]\n",
            "my2dlist[2] = [9, 10, 11, 12]\n",
            "my2dlist[:][2] = [9, 10, 11, 12]\n",
            "\n",
            "my2darr =\n",
            " [[ 1  2  3  4]\n",
            " [ 5  6  7  8]\n",
            " [ 9 10 11 12]]\n",
            "my2darr[2][:] = [ 9 10 11 12]\n",
            "my2darr[2,:] = [ 9 10 11 12]\n",
            "my2darr[:][2] = [ 9 10 11 12]\n",
            "my2darr[:,2] = [ 3  7 11]\n",
            "my2darr[:2,2:] =\n",
            " [[3 4]\n",
            " [7 8]]\n"
          ]
        }
      ],
      "source": [
        "my2dlist = [[1,2,3,4],[5,6,7,8],[9,10,11,12]]  # a 2-dim list\n",
        "print('my2dlist =', my2dlist)\n",
        "print('my2dlist[2] =', my2dlist[2])            # access the third sublist\n",
        "print('my2dlist[:][2] =', my2dlist[:][2])      # can't access third element of each sublist\n",
        "# print('my2dlist[:,2] =', my2dlist[:,2])      # invalid way to access sublist, will cause syntax error\n",
        "\n",
        "my2darr = np.array(my2dlist)\n",
        "print('\\nmy2darr =\\n', my2darr)\n",
        "\n",
        "print('my2darr[2][:] =', my2darr[2][:])      # access the third row\n",
        "print('my2darr[2,:] =', my2darr[2,:])        # access the third row\n",
        "print('my2darr[:][2] =', my2darr[:][2])      # access the third row (similar to 2d list)\n",
        "print('my2darr[:,2] =', my2darr[:,2])        # access the third column\n",
        "print('my2darr[:2,2:] =\\n', my2darr[:2,2:])     # access the first two rows & last two columns"
      ]
    },
    {
      "cell_type": "markdown",
      "metadata": {},
      "source": [
        "Executing Boolean Indexing"
      ]
    },
    {
      "cell_type": "code",
      "execution_count": 23,
      "metadata": {},
      "outputs": [
        {
          "name": "stdout",
          "output_type": "stream",
          "text": [
            "my2darr =\n",
            " [[ 1  2  3  4]\n",
            " [ 5  6  7  8]\n",
            " [ 9 10 11 12]]\n",
            "\n",
            "my2darr[my2darr % 3 == 0] = [ 3  6  9 12]\n",
            "my2darr[2:, my2darr[2,:] % 3 == 0] = [[ 9 12]]\n"
          ]
        }
      ],
      "source": [
        "my2darr = np.arange(1,13,1).reshape(3,4)\n",
        "print('my2darr =\\n', my2darr)\n",
        "\n",
        "divBy3 = my2darr[my2darr % 3 == 0]\n",
        "print('\\nmy2darr[my2darr % 3 == 0] =', divBy3)            # returns all the elements divisible by 3 in an ndarray\n",
        "\n",
        "divBy3LastRow = my2darr[2:, my2darr[2,:] % 3 == 0]\n",
        "print('my2darr[2:, my2darr[2,:] % 3 == 0] =', divBy3LastRow)    # returns elements in the last row divisible by 3"
      ]
    },
    {
      "cell_type": "markdown",
      "metadata": {},
      "source": [
        "Learning more indexing examples like Shuffling "
      ]
    },
    {
      "cell_type": "code",
      "execution_count": 24,
      "metadata": {},
      "outputs": [
        {
          "name": "stdout",
          "output_type": "stream",
          "text": [
            "my2darr =\n",
            " [[ 1  2  3]\n",
            " [ 4  5  6]\n",
            " [ 7  8  9]\n",
            " [10 11 12]]\n",
            "indices = [2, 1, 0, 3] \n",
            "\n",
            "my2darr[indices,:] =\n",
            " [[ 7  8  9]\n",
            " [ 4  5  6]\n",
            " [ 1  2  3]\n",
            " [10 11 12]]\n",
            "\n",
            "rowIndex = [0, 0, 1, 2, 3]\n",
            "columnIndex = [0, 2, 0, 1, 2] \n",
            "\n",
            "my2darr[rowIndex,columnIndex] = [ 1  3  4  8 12]\n"
          ]
        }
      ],
      "source": [
        "my2darr = np.arange(1,13,1).reshape(4,3)\n",
        "print('my2darr =\\n', my2darr)\n",
        "\n",
        "indices = [2,1,0,3]    # selected row indices\n",
        "print('indices =', indices, '\\n')\n",
        "print('my2darr[indices,:] =\\n', my2darr[indices,:])  # this will shuffle the rows of my2darr\n",
        "\n",
        "rowIndex = [0,0,1,2,3]     # row index into my2darr\n",
        "print('\\nrowIndex =', rowIndex)\n",
        "columnIndex = [0,2,0,1,2]  # column index into my2darr\n",
        "print('columnIndex =', columnIndex, '\\n')\n",
        "print('my2darr[rowIndex,columnIndex] =', my2darr[rowIndex,columnIndex])"
      ]
    },
    {
      "cell_type": "markdown",
      "metadata": {},
      "source": [
        "Numpy Arithmetic and Statistical Functions"
      ]
    },
    {
      "cell_type": "markdown",
      "metadata": {},
      "source": [
        "Using built-in mathematical functions for ndarray"
      ]
    },
    {
      "cell_type": "code",
      "execution_count": 25,
      "metadata": {},
      "outputs": [
        {
          "name": "stdout",
          "output_type": "stream",
          "text": [
            "y = [-1.4  0.4 -3.2  2.5  3.4] \n",
            "\n",
            "np.abs(y) = [1.4 0.4 3.2 2.5 3.4]\n",
            "np.sqrt(abs(y)) = [1.18321596 0.63245553 1.78885438 1.58113883 1.84390889]\n",
            "np.sign(y) = [-1.  1. -1.  1.  1.]\n",
            "np.exp(y) = [ 0.24659696  1.4918247   0.0407622  12.18249396 29.96410005]\n",
            "np.sort(y) = [-3.2 -1.4  0.4  2.5  3.4]\n"
          ]
        }
      ],
      "source": [
        "y = np.array([-1.4, 0.4, -3.2, 2.5, 3.4])    \n",
        "print('y =', y, '\\n')\n",
        "\n",
        "print('np.abs(y) =', np.abs(y))                # convert to absolute values\n",
        "print('np.sqrt(abs(y)) =', np.sqrt(abs(y)))    # apply square root to each element\n",
        "print('np.sign(y) =', np.sign(y))              # get the sign of each element\n",
        "print('np.exp(y) =', np.exp(y))                # apply exponentiation\n",
        "print('np.sort(y) =', np.sort(y))              # sort array"
      ]
    },
    {
      "cell_type": "code",
      "execution_count": 26,
      "metadata": {},
      "outputs": [
        {
          "name": "stdout",
          "output_type": "stream",
          "text": [
            "x = [-2 -1  0  1  2]\n",
            "y = [ 0.80369713  0.57754551  0.19283143 -0.3088548  -0.034386  ] \n",
            "\n",
            "np.add(x,y) = [-1.19630287 -0.42245449  0.19283143  0.6911452   1.965614  ]\n",
            "np.subtract(x,y) = [-2.80369713 -1.57754551 -0.19283143  1.3088548   2.034386  ]\n",
            "np.multiply(x,y) = [-1.60739425 -0.57754551  0.         -0.3088548  -0.068772  ]\n",
            "np.divide(x,y) = [ -2.48849963  -1.73146529   0.          -3.23776743 -58.16320899]\n",
            "np.maximum(x,y) = [0.80369713 0.57754551 0.19283143 1.         2.        ]\n"
          ]
        }
      ],
      "source": [
        "x = np.arange(-2,3)\n",
        "y = np.random.randn(5)\n",
        "print('x =', x)\n",
        "print('y =', y, '\\n')\n",
        "\n",
        "print('np.add(x,y) =', np.add(x,y))                # element-wise addition       x + y\n",
        "print('np.subtract(x,y) =', np.subtract(x,y))      # element-wise subtraction    x - y\n",
        "print('np.multiply(x,y) =', np.multiply(x,y))      # element-wise multiplication x * y\n",
        "print('np.divide(x,y) =', np.divide(x,y))          # element-wise division       x / y\n",
        "print('np.maximum(x,y) =', np.maximum(x,y))        # element-wise maximum        max(x,y)"
      ]
    },
    {
      "cell_type": "code",
      "execution_count": 27,
      "metadata": {},
      "outputs": [
        {
          "name": "stdout",
          "output_type": "stream",
          "text": [
            "y = [-3.2 -1.4  0.4  2.5  3.4] \n",
            "\n",
            "Min = -3.2\n",
            "Max = 3.4\n",
            "Average = 0.34000000000000014\n",
            "Std deviation = 2.432776191925595\n",
            "Sum = 1.7000000000000006\n"
          ]
        }
      ],
      "source": [
        "y = np.array([-3.2, -1.4, 0.4, 2.5, 3.4])    \n",
        "print('y =', y, '\\n')\n",
        "\n",
        "print(\"Min =\", np.min(y))             # min \n",
        "print(\"Max =\", np.max(y))             # max \n",
        "print(\"Average =\", np.mean(y))        # mean/average\n",
        "print(\"Std deviation =\", np.std(y))   # standard deviation\n",
        "print(\"Sum =\", np.sum(y))             # sum "
      ]
    },
    {
      "cell_type": "markdown",
      "metadata": {},
      "source": [
        "Using Numpy linear algebra operations"
      ]
    },
    {
      "cell_type": "code",
      "execution_count": 28,
      "metadata": {},
      "outputs": [
        {
          "name": "stdout",
          "output_type": "stream",
          "text": [
            "X =\n",
            " [[ 1.31189019 -0.4404836   1.40843061]\n",
            " [ 0.62832017  0.50403553  2.17884544]] \n",
            "\n",
            "Transpose of X, X.T =\n",
            " [[ 1.31189019  0.62832017]\n",
            " [-0.4404836   0.50403553]\n",
            " [ 1.40843061  2.17884544]] \n",
            "\n",
            "y = [-2.28804617 -0.18643286 -1.85836737] \n",
            "\n",
            "Matrix-vector multiplication\n",
            "X.dot(y) =\n",
            " [-5.53692619 -5.58068963] \n",
            "\n",
            "Matrix-matrix product\n",
            "X.dot(X.T) = [[3.89875845 3.6710203 ]\n",
            " [3.6710203  5.39620552]]\n",
            "\n",
            "X.T.dot(X) =\n",
            " [[ 2.11584211 -0.26117042  3.21671884]\n",
            " [-0.26117042  0.44807762  0.47782494]\n",
            " [ 3.21671884  0.47782494  6.73104424]]\n"
          ]
        }
      ],
      "source": [
        "X = np.random.randn(2,3)                         # create a 2 x 3 random matrix\n",
        "print('X =\\n', X, '\\n')\n",
        "print('Transpose of X, X.T =\\n', X.T, '\\n')      # matrix transpose operation X^T\n",
        "\n",
        "y = np.random.randn(3) # random vector \n",
        "print('y =', y, '\\n')\n",
        "\n",
        "print('Matrix-vector multiplication')\n",
        "print('X.dot(y) =\\n', X.dot(y), '\\n')            # matrix-vector multiplication  X * y\n",
        "\n",
        "print('Matrix-matrix product')\n",
        "print('X.dot(X.T) =', X.dot(X.T))        # matrix-matrix multiplication  X * X^T\n",
        "print('\\nX.T.dot(X) =\\n', X.T.dot(X))      # matrix-matrix multiplication  X^T * X"
      ]
    },
    {
      "cell_type": "code",
      "execution_count": 29,
      "metadata": {},
      "outputs": [
        {
          "name": "stdout",
          "output_type": "stream",
          "text": [
            "X =\n",
            " [[-1.75556002 -0.23660246 -1.09248649]\n",
            " [-0.58481271 -0.50318149 -1.44598562]\n",
            " [ 2.76861904 -0.41354932  0.55156172]\n",
            " [ 0.22842334  1.96884392 -1.17060511]\n",
            " [ 0.05421667 -2.2150154   0.32760059]] \n",
            "\n",
            "C = X.T.dot(X) =\n",
            " [[11.14436498 -0.10568461  4.04098855]\n",
            " [-0.10568461  9.26283497 -2.27239888]\n",
            " [ 4.04098855 -2.27239888  5.06625993]] \n",
            "\n",
            "Inverse of C = np.linalg.inv(C)\n",
            " [[ 0.13213955 -0.02735965 -0.11766992]\n",
            " [-0.02735965  0.12697133  0.07877399]\n",
            " [-0.11766992  0.07877399  0.32657399]] \n",
            "\n",
            "Determinant of C = np.linalg.det(C) = 316.0608201579806\n",
            "Eigenvalues of C =\n",
            " [ 2.45940292 13.481998    9.53205896]\n",
            "Eigenvectors of C =\n",
            " [[ 0.4015736   0.83482653  0.37656779]\n",
            " [-0.284519   -0.27710973  0.91774677]\n",
            " [-0.87050995  0.47568357 -0.12624406]]\n"
          ]
        }
      ],
      "source": [
        "X = np.random.randn(5,3)\n",
        "print('X =\\n', X, '\\n')\n",
        "\n",
        "C = X.T.dot(X)               # C = X^T * X is a square matrix\n",
        "print('C = X.T.dot(X) =\\n', C, '\\n')\n",
        "\n",
        "invC = np.linalg.inv(C)      # inverse of a square matrix\n",
        "print('Inverse of C = np.linalg.inv(C)\\n', invC, '\\n')\n",
        "\n",
        "detC = np.linalg.det(C)      # determinant of a square matrix\n",
        "print('Determinant of C = np.linalg.det(C) =', detC)\n",
        "\n",
        "S, U = np.linalg.eig(C)      # eigenvalue S and eigenvector U of a square matrix\n",
        "print('Eigenvalues of C =\\n', S)\n",
        "print('Eigenvectors of C =\\n', U)"
      ]
    },
    {
      "cell_type": "markdown",
      "metadata": {},
      "source": [
        "Introduction to Pandas"
      ]
    },
    {
      "cell_type": "markdown",
      "metadata": {},
      "source": [
        "Understanding Series and applying numpy functions"
      ]
    },
    {
      "cell_type": "markdown",
      "metadata": {},
      "source": [
        "Creating a series from a list"
      ]
    },
    {
      "cell_type": "code",
      "execution_count": 30,
      "metadata": {},
      "outputs": [
        {
          "name": "stdout",
          "output_type": "stream",
          "text": [
            "Series, s =\n",
            " 0    3.1\n",
            "1    2.4\n",
            "2   -1.7\n",
            "3    0.2\n",
            "4   -2.9\n",
            "5    4.5\n",
            "dtype: float64 \n",
            "\n",
            "s.values = [ 3.1  2.4 -1.7  0.2 -2.9  4.5]\n",
            "s.index = RangeIndex(start=0, stop=6, step=1)\n",
            "s.dtype = float64\n"
          ]
        }
      ],
      "source": [
        "from pandas import Series\n",
        "\n",
        "s = Series([3.1, 2.4, -1.7, 0.2, -2.9, 4.5])   # creating a series from a list\n",
        "print('Series, s =\\n', s, '\\n')\n",
        "\n",
        "print('s.values =', s.values)     # display values of the Series\n",
        "print('s.index =', s.index)       # display indices of the Series\n",
        "print('s.dtype =', s.dtype)       # display the element type of the Series"
      ]
    },
    {
      "cell_type": "markdown",
      "metadata": {},
      "source": [
        "Creating a series using numpy ndarray"
      ]
    },
    {
      "cell_type": "code",
      "execution_count": 31,
      "metadata": {},
      "outputs": [
        {
          "name": "stdout",
          "output_type": "stream",
          "text": [
            "Series s2 =\n",
            " 0   -0.357802\n",
            "1   -0.977809\n",
            "2    0.786725\n",
            "3    2.002698\n",
            "4   -0.837767\n",
            "5   -0.670137\n",
            "dtype: float64 \n",
            "\n",
            "s2.values = [-0.35780197 -0.97780899  0.78672539  2.00269776 -0.83776748 -0.67013746]\n",
            "s2.index = RangeIndex(start=0, stop=6, step=1)\n",
            "s2.dtype = float64\n"
          ]
        }
      ],
      "source": [
        "import numpy as np\n",
        "\n",
        "s2 = Series(np.random.randn(6))   # creating a series from a numpy ndarray\n",
        "print('Series s2 =\\n', s2, '\\n')\n",
        "print('s2.values =', s2.values)   # display values of the Series\n",
        "print('s2.index =', s2.index)     # display indices of the Series\n",
        "print('s2.dtype =', s2.dtype)     # display the element type of the Series"
      ]
    },
    {
      "cell_type": "markdown",
      "metadata": {},
      "source": [
        "Adding indices to the series"
      ]
    },
    {
      "cell_type": "code",
      "execution_count": 32,
      "metadata": {},
      "outputs": [
        {
          "name": "stdout",
          "output_type": "stream",
          "text": [
            "Series s3 =\n",
            " Jan 1    1.2\n",
            "Jan 2    2.5\n",
            "Jan 3   -2.2\n",
            "Jan 4    3.1\n",
            "Jan 5   -0.8\n",
            "Jan 6   -3.2\n",
            "dtype: float64 \n",
            "\n",
            "s3.values = [ 1.2  2.5 -2.2  3.1 -0.8 -3.2]\n",
            "s3.index = Index(['Jan 1', 'Jan 2', 'Jan 3', 'Jan 4', 'Jan 5', 'Jan 6'], dtype='object')\n",
            "s3.dtype = float64\n"
          ]
        }
      ],
      "source": [
        "s3 = Series([1.2,2.5,-2.2,3.1,-0.8,-3.2], \n",
        "            index = ['Jan 1','Jan 2','Jan 3','Jan 4','Jan 5','Jan 6',])\n",
        "print('Series s3 =\\n', s3, '\\n')\n",
        "print('s3.values =', s3.values)   # display values of the Series\n",
        "print('s3.index =', s3.index)     # display indices of the Series\n",
        "print('s3.dtype =', s3.dtype)     # display the element type of the Series"
      ]
    },
    {
      "cell_type": "markdown",
      "metadata": {},
      "source": [
        "creating a series from a dictionary"
      ]
    },
    {
      "cell_type": "code",
      "execution_count": 33,
      "metadata": {},
      "outputs": [
        {
          "name": "stdout",
          "output_type": "stream",
          "text": [
            "Series s4 =\n",
            " MI       Lansing\n",
            "CA    Sacramento\n",
            "TX        Austin\n",
            "MN       St Paul\n",
            "dtype: object \n",
            "\n",
            "s4.values = ['Lansing' 'Sacramento' 'Austin' 'St Paul']\n",
            "s4.index= Index(['MI', 'CA', 'TX', 'MN'], dtype='object')\n",
            "s4.dtype = object\n"
          ]
        }
      ],
      "source": [
        "capitals = {'MI': 'Lansing', 'CA': 'Sacramento', 'TX': 'Austin', 'MN': 'St Paul'}\n",
        "\n",
        "s4 = Series(capitals)   # creating a series from dictionary object\n",
        "print('Series s4 =\\n', s4, '\\n')\n",
        "print('s4.values =', s4.values)   # display values of the Series\n",
        "print('s4.index=', s4.index)      # display indices of the Series\n",
        "print('s4.dtype =', s4.dtype)     # display the element type of the Series"
      ]
    },
    {
      "cell_type": "code",
      "execution_count": 34,
      "metadata": {},
      "outputs": [
        {
          "name": "stdout",
          "output_type": "stream",
          "text": [
            "s3 =\n",
            " Jan 1    1.2\n",
            "Jan 2    2.5\n",
            "Jan 3   -2.2\n",
            "Jan 4    3.1\n",
            "Jan 5   -0.8\n",
            "Jan 6   -3.2\n",
            "dtype: float64 \n",
            "\n",
            "s3[2]= -2.2\n",
            "s3['Jan 3']= -2.2\n",
            "\n",
            "s3[1:3]=\n",
            "Jan 2    2.5\n",
            "Jan 3   -2.2\n",
            "dtype: float64\n",
            "\n",
            "s3.iloc([1:3])=\n",
            "Jan 2    2.5\n",
            "Jan 3   -2.2\n",
            "dtype: float64\n"
          ]
        }
      ],
      "source": [
        "s3 = Series([1.2,2.5,-2.2,3.1,-0.8,-3.2], \n",
        "            index = ['Jan 1','Jan 2','Jan 3','Jan 4','Jan 5','Jan 6',])\n",
        "print('s3 =\\n', s3, '\\n')\n",
        "\n",
        "# Accessing elements of a Series\n",
        "\n",
        "print('s3[2]=', s3[2])        # display third element of the Series\n",
        "print('s3[\\'Jan 3\\']=', s3['Jan 3'])   # indexing element of a Series \n",
        "\n",
        "print('\\ns3[1:3]=')             # display a slice of the Series\n",
        "print(s3[1:3])\n",
        "print('\\ns3.iloc([1:3])=')      # display a slice of the Series\n",
        "print(s3.iloc[1:3])"
      ]
    },
    {
      "cell_type": "markdown",
      "metadata": {},
      "source": [
        "Finding number of elements in a series"
      ]
    },
    {
      "cell_type": "code",
      "execution_count": 35,
      "metadata": {},
      "outputs": [
        {
          "name": "stdout",
          "output_type": "stream",
          "text": [
            "Series s3 =\n",
            " Jan 1    1.2\n",
            "Jan 2    2.5\n",
            "Jan 3   -2.2\n",
            "Jan 4    3.1\n",
            "Jan 5   -0.8\n",
            "Jan 6   -3.2\n",
            "Jan 7    NaN\n",
            "dtype: float64 \n",
            "\n",
            "Shape of s3 = (7,)\n",
            "Size of s3 = 7\n",
            "Count of s3 = 6\n"
          ]
        }
      ],
      "source": [
        "s3['Jan 7'] = np.nan\n",
        "print('Series s3 =\\n', s3, '\\n')\n",
        "\n",
        "print('Shape of s3 =', s3.shape)   # get the dimension of the Series\n",
        "print('Size of s3 =', s3.size)     # get the number of elements of the Series\n",
        "print('Count of s3 =', s3.count()) # get the number of non-null elements of the Series"
      ]
    },
    {
      "cell_type": "markdown",
      "metadata": {},
      "source": [
        "Executing boolean filter"
      ]
    },
    {
      "cell_type": "code",
      "execution_count": 36,
      "metadata": {},
      "outputs": [
        {
          "name": "stdout",
          "output_type": "stream",
          "text": [
            "Jan 1    1.2\n",
            "Jan 2    2.5\n",
            "Jan 4    3.1\n",
            "dtype: float64\n"
          ]
        }
      ],
      "source": [
        "print(s3[s3 > 0])   # applying filter to select non-negative elements of the Series"
      ]
    },
    {
      "cell_type": "markdown",
      "metadata": {},
      "source": [
        "Scalar operations"
      ]
    },
    {
      "cell_type": "code",
      "execution_count": 37,
      "metadata": {},
      "outputs": [
        {
          "name": "stdout",
          "output_type": "stream",
          "text": [
            "s3 + 4 =\n",
            " Jan 1    5.2\n",
            "Jan 2    6.5\n",
            "Jan 3    1.8\n",
            "Jan 4    7.1\n",
            "Jan 5    3.2\n",
            "Jan 6    0.8\n",
            "Jan 7    NaN\n",
            "dtype: float64 \n",
            "\n",
            "s3 / 4 =\n",
            " Jan 1    0.300\n",
            "Jan 2    0.625\n",
            "Jan 3   -0.550\n",
            "Jan 4    0.775\n",
            "Jan 5   -0.200\n",
            "Jan 6   -0.800\n",
            "Jan 7      NaN\n",
            "dtype: float64\n"
          ]
        }
      ],
      "source": [
        "print('s3 + 4 =\\n', s3 + 4, '\\n')       \n",
        "print('s3 / 4 =\\n', s3 / 4)                 "
      ]
    },
    {
      "cell_type": "markdown",
      "metadata": {},
      "source": [
        "Applying numpy functions to series"
      ]
    },
    {
      "cell_type": "code",
      "execution_count": 38,
      "metadata": {},
      "outputs": [
        {
          "name": "stdout",
          "output_type": "stream",
          "text": [
            "np.log(s3 + 4) =\n",
            " Jan 1    1.648659\n",
            "Jan 2    1.871802\n",
            "Jan 3    0.587787\n",
            "Jan 4    1.960095\n",
            "Jan 5    1.163151\n",
            "Jan 6   -0.223144\n",
            "Jan 7         NaN\n",
            "dtype: float64 \n",
            "\n",
            "np.exp(s3 - 4) =\n",
            " Jan 1    0.060810\n",
            "Jan 2    0.223130\n",
            "Jan 3    0.002029\n",
            "Jan 4    0.406570\n",
            "Jan 5    0.008230\n",
            "Jan 6    0.000747\n",
            "Jan 7         NaN\n",
            "dtype: float64 \n",
            "\n"
          ]
        }
      ],
      "source": [
        "print('np.log(s3 + 4) =\\n', np.log(s3 + 4), '\\n')    # applying log function to a numeric Series\n",
        "print('np.exp(s3 - 4) =\\n', np.exp(s3 - 4), '\\n')    # applying exponent function to a numeric Series"
      ]
    },
    {
      "cell_type": "markdown",
      "metadata": {},
      "source": [
        "Implementing value_counts() function"
      ]
    },
    {
      "cell_type": "code",
      "execution_count": 39,
      "metadata": {},
      "outputs": [
        {
          "name": "stdout",
          "output_type": "stream",
          "text": [
            "colors =\n",
            " 0       red\n",
            "1      blue\n",
            "2      blue\n",
            "3    yellow\n",
            "4       red\n",
            "5     green\n",
            "6      blue\n",
            "7       NaN\n",
            "dtype: object \n",
            "\n",
            "colors.value_counts() =\n",
            " blue      3\n",
            "red       2\n",
            "yellow    1\n",
            "green     1\n",
            "Name: count, dtype: int64\n"
          ]
        }
      ],
      "source": [
        "colors = Series(['red', 'blue', 'blue', 'yellow', 'red', 'green', 'blue', np.nan])\n",
        "print('colors =\\n', colors, '\\n')\n",
        "\n",
        "print('colors.value_counts() =\\n', colors.value_counts())"
      ]
    },
    {
      "cell_type": "markdown",
      "metadata": {},
      "source": [
        "Learning DataFrame"
      ]
    },
    {
      "cell_type": "markdown",
      "metadata": {},
      "source": [
        "Creating Dataframe using dictionary"
      ]
    },
    {
      "cell_type": "code",
      "execution_count": 41,
      "metadata": {},
      "outputs": [
        {
          "data": {
            "text/html": [
              "<div>\n",
              "<style scoped>\n",
              "    .dataframe tbody tr th:only-of-type {\n",
              "        vertical-align: middle;\n",
              "    }\n",
              "\n",
              "    .dataframe tbody tr th {\n",
              "        vertical-align: top;\n",
              "    }\n",
              "\n",
              "    .dataframe thead th {\n",
              "        text-align: right;\n",
              "    }\n",
              "</style>\n",
              "<table border=\"1\" class=\"dataframe\">\n",
              "  <thead>\n",
              "    <tr style=\"text-align: right;\">\n",
              "      <th></th>\n",
              "      <th>make</th>\n",
              "      <th>model</th>\n",
              "      <th>MSRP</th>\n",
              "    </tr>\n",
              "  </thead>\n",
              "  <tbody>\n",
              "    <tr>\n",
              "      <th>0</th>\n",
              "      <td>Ford</td>\n",
              "      <td>Taurus</td>\n",
              "      <td>27595</td>\n",
              "    </tr>\n",
              "    <tr>\n",
              "      <th>1</th>\n",
              "      <td>Honda</td>\n",
              "      <td>Accord</td>\n",
              "      <td>23570</td>\n",
              "    </tr>\n",
              "    <tr>\n",
              "      <th>2</th>\n",
              "      <td>Toyota</td>\n",
              "      <td>Camry</td>\n",
              "      <td>23495</td>\n",
              "    </tr>\n",
              "    <tr>\n",
              "      <th>3</th>\n",
              "      <td>Tesla</td>\n",
              "      <td>Model S</td>\n",
              "      <td>68000</td>\n",
              "    </tr>\n",
              "  </tbody>\n",
              "</table>\n",
              "</div>"
            ],
            "text/plain": [
              "     make    model   MSRP\n",
              "0    Ford   Taurus  27595\n",
              "1   Honda   Accord  23570\n",
              "2  Toyota    Camry  23495\n",
              "3   Tesla  Model S  68000"
            ]
          },
          "execution_count": 41,
          "metadata": {},
          "output_type": "execute_result"
        }
      ],
      "source": [
        "from pandas import DataFrame\n",
        "\n",
        "cars = {'make': ['Ford', 'Honda', 'Toyota', 'Tesla'],\n",
        "       'model': ['Taurus', 'Accord', 'Camry', 'Model S'],\n",
        "       'MSRP': [27595, 23570, 23495, 68000]}          \n",
        "carData = DataFrame(cars)            # creating DataFrame from dictionary\n",
        "carData                              # display the table"
      ]
    },
    {
      "cell_type": "code",
      "execution_count": 44,
      "metadata": {},
      "outputs": [
        {
          "name": "stdout",
          "output_type": "stream",
          "text": [
            "carData.index = RangeIndex(start=0, stop=4, step=1)\n",
            "carData.columns = Index(['make', 'model', 'MSRP'], dtype='object')\n"
          ]
        }
      ],
      "source": [
        "print('carData.index =', carData.index)         # print the row indices\n",
        "print('carData.columns =', carData.columns)     # print the column indices"
      ]
    },
    {
      "cell_type": "markdown",
      "metadata": {},
      "source": [
        "Adding columns into a dataframe"
      ]
    },
    {
      "cell_type": "code",
      "execution_count": 45,
      "metadata": {},
      "outputs": [
        {
          "data": {
            "text/html": [
              "<div>\n",
              "<style scoped>\n",
              "    .dataframe tbody tr th:only-of-type {\n",
              "        vertical-align: middle;\n",
              "    }\n",
              "\n",
              "    .dataframe tbody tr th {\n",
              "        vertical-align: top;\n",
              "    }\n",
              "\n",
              "    .dataframe thead th {\n",
              "        text-align: right;\n",
              "    }\n",
              "</style>\n",
              "<table border=\"1\" class=\"dataframe\">\n",
              "  <thead>\n",
              "    <tr style=\"text-align: right;\">\n",
              "      <th></th>\n",
              "      <th>make</th>\n",
              "      <th>model</th>\n",
              "      <th>MSRP</th>\n",
              "      <th>year</th>\n",
              "      <th>dealership</th>\n",
              "    </tr>\n",
              "  </thead>\n",
              "  <tbody>\n",
              "    <tr>\n",
              "      <th>1</th>\n",
              "      <td>Ford</td>\n",
              "      <td>Taurus</td>\n",
              "      <td>27595</td>\n",
              "      <td>2018</td>\n",
              "      <td>Courtesy Ford</td>\n",
              "    </tr>\n",
              "    <tr>\n",
              "      <th>2</th>\n",
              "      <td>Honda</td>\n",
              "      <td>Accord</td>\n",
              "      <td>23570</td>\n",
              "      <td>2018</td>\n",
              "      <td>Capital Honda</td>\n",
              "    </tr>\n",
              "    <tr>\n",
              "      <th>3</th>\n",
              "      <td>Toyota</td>\n",
              "      <td>Camry</td>\n",
              "      <td>23495</td>\n",
              "      <td>2018</td>\n",
              "      <td>Spartan Toyota</td>\n",
              "    </tr>\n",
              "    <tr>\n",
              "      <th>4</th>\n",
              "      <td>Tesla</td>\n",
              "      <td>Model S</td>\n",
              "      <td>68000</td>\n",
              "      <td>2018</td>\n",
              "      <td>N/A</td>\n",
              "    </tr>\n",
              "  </tbody>\n",
              "</table>\n",
              "</div>"
            ],
            "text/plain": [
              "     make    model   MSRP  year      dealership\n",
              "1    Ford   Taurus  27595  2018   Courtesy Ford\n",
              "2   Honda   Accord  23570  2018   Capital Honda\n",
              "3  Toyota    Camry  23495  2018  Spartan Toyota\n",
              "4   Tesla  Model S  68000  2018             N/A"
            ]
          },
          "execution_count": 45,
          "metadata": {},
          "output_type": "execute_result"
        }
      ],
      "source": [
        "carData2 = DataFrame(cars, index = [1,2,3,4])  # change the row index\n",
        "carData2['year'] = 2018    # add column with same value\n",
        "carData2['dealership'] = ['Courtesy Ford','Capital Honda','Spartan Toyota','N/A']\n",
        "carData2                   # display table"
      ]
    },
    {
      "cell_type": "markdown",
      "metadata": {},
      "source": [
        "Creating df using list of tuples"
      ]
    },
    {
      "cell_type": "code",
      "execution_count": 46,
      "metadata": {},
      "outputs": [
        {
          "data": {
            "text/html": [
              "<div>\n",
              "<style scoped>\n",
              "    .dataframe tbody tr th:only-of-type {\n",
              "        vertical-align: middle;\n",
              "    }\n",
              "\n",
              "    .dataframe tbody tr th {\n",
              "        vertical-align: top;\n",
              "    }\n",
              "\n",
              "    .dataframe thead th {\n",
              "        text-align: right;\n",
              "    }\n",
              "</style>\n",
              "<table border=\"1\" class=\"dataframe\">\n",
              "  <thead>\n",
              "    <tr style=\"text-align: right;\">\n",
              "      <th></th>\n",
              "      <th>year</th>\n",
              "      <th>temp</th>\n",
              "      <th>precip</th>\n",
              "    </tr>\n",
              "  </thead>\n",
              "  <tbody>\n",
              "    <tr>\n",
              "      <th>0</th>\n",
              "      <td>2011</td>\n",
              "      <td>45.1</td>\n",
              "      <td>32.4</td>\n",
              "    </tr>\n",
              "    <tr>\n",
              "      <th>1</th>\n",
              "      <td>2012</td>\n",
              "      <td>42.4</td>\n",
              "      <td>34.5</td>\n",
              "    </tr>\n",
              "    <tr>\n",
              "      <th>2</th>\n",
              "      <td>2013</td>\n",
              "      <td>47.2</td>\n",
              "      <td>39.2</td>\n",
              "    </tr>\n",
              "    <tr>\n",
              "      <th>3</th>\n",
              "      <td>2014</td>\n",
              "      <td>44.2</td>\n",
              "      <td>31.4</td>\n",
              "    </tr>\n",
              "    <tr>\n",
              "      <th>4</th>\n",
              "      <td>2015</td>\n",
              "      <td>39.9</td>\n",
              "      <td>29.8</td>\n",
              "    </tr>\n",
              "    <tr>\n",
              "      <th>5</th>\n",
              "      <td>2016</td>\n",
              "      <td>41.5</td>\n",
              "      <td>36.7</td>\n",
              "    </tr>\n",
              "  </tbody>\n",
              "</table>\n",
              "</div>"
            ],
            "text/plain": [
              "   year  temp  precip\n",
              "0  2011  45.1    32.4\n",
              "1  2012  42.4    34.5\n",
              "2  2013  47.2    39.2\n",
              "3  2014  44.2    31.4\n",
              "4  2015  39.9    29.8\n",
              "5  2016  41.5    36.7"
            ]
          },
          "execution_count": 46,
          "metadata": {},
          "output_type": "execute_result"
        }
      ],
      "source": [
        "tuplelist = [(2011,45.1,32.4),(2012,42.4,34.5),(2013,47.2,39.2),\n",
        "              (2014,44.2,31.4),(2015,39.9,29.8),(2016,41.5,36.7)]\n",
        "columnNames = ['year','temp','precip']\n",
        "weatherData = DataFrame(tuplelist, columns=columnNames)\n",
        "weatherData"
      ]
    },
    {
      "cell_type": "markdown",
      "metadata": {},
      "source": [
        "Creating a df from numpy ndarray"
      ]
    },
    {
      "cell_type": "code",
      "execution_count": 47,
      "metadata": {},
      "outputs": [
        {
          "data": {
            "text/html": [
              "<div>\n",
              "<style scoped>\n",
              "    .dataframe tbody tr th:only-of-type {\n",
              "        vertical-align: middle;\n",
              "    }\n",
              "\n",
              "    .dataframe tbody tr th {\n",
              "        vertical-align: top;\n",
              "    }\n",
              "\n",
              "    .dataframe thead th {\n",
              "        text-align: right;\n",
              "    }\n",
              "</style>\n",
              "<table border=\"1\" class=\"dataframe\">\n",
              "  <thead>\n",
              "    <tr style=\"text-align: right;\">\n",
              "      <th></th>\n",
              "      <th>x1</th>\n",
              "      <th>x2</th>\n",
              "      <th>x3</th>\n",
              "    </tr>\n",
              "  </thead>\n",
              "  <tbody>\n",
              "    <tr>\n",
              "      <th>0</th>\n",
              "      <td>-0.707801</td>\n",
              "      <td>1.296393</td>\n",
              "      <td>-1.083052</td>\n",
              "    </tr>\n",
              "    <tr>\n",
              "      <th>1</th>\n",
              "      <td>-0.964461</td>\n",
              "      <td>-1.447370</td>\n",
              "      <td>1.450354</td>\n",
              "    </tr>\n",
              "    <tr>\n",
              "      <th>2</th>\n",
              "      <td>-0.449954</td>\n",
              "      <td>1.449757</td>\n",
              "      <td>2.305450</td>\n",
              "    </tr>\n",
              "    <tr>\n",
              "      <th>3</th>\n",
              "      <td>-1.052565</td>\n",
              "      <td>-0.713768</td>\n",
              "      <td>1.427206</td>\n",
              "    </tr>\n",
              "    <tr>\n",
              "      <th>4</th>\n",
              "      <td>-0.524966</td>\n",
              "      <td>1.946401</td>\n",
              "      <td>0.838813</td>\n",
              "    </tr>\n",
              "  </tbody>\n",
              "</table>\n",
              "</div>"
            ],
            "text/plain": [
              "         x1        x2        x3\n",
              "0 -0.707801  1.296393 -1.083052\n",
              "1 -0.964461 -1.447370  1.450354\n",
              "2 -0.449954  1.449757  2.305450\n",
              "3 -1.052565 -0.713768  1.427206\n",
              "4 -0.524966  1.946401  0.838813"
            ]
          },
          "execution_count": 47,
          "metadata": {},
          "output_type": "execute_result"
        }
      ],
      "source": [
        "import numpy as np\n",
        "\n",
        "npdata = np.random.randn(5,3)  # create a 5 by 3 random matrix\n",
        "columnNames = ['x1','x2','x3']\n",
        "data = DataFrame(npdata, columns=columnNames)\n",
        "data"
      ]
    },
    {
      "cell_type": "markdown",
      "metadata": {},
      "source": [
        "Accessing elements of a dataframe"
      ]
    },
    {
      "cell_type": "markdown",
      "metadata": {},
      "source": [
        "Accessing entire coloumn"
      ]
    },
    {
      "cell_type": "code",
      "execution_count": 48,
      "metadata": {},
      "outputs": [
        {
          "name": "stdout",
          "output_type": "stream",
          "text": [
            "0    1.296393\n",
            "1   -1.447370\n",
            "2    1.449757\n",
            "3   -0.713768\n",
            "4    1.946401\n",
            "Name: x2, dtype: float64\n",
            "<class 'pandas.core.series.Series'>\n"
          ]
        }
      ],
      "source": [
        "# accessing an entire column will return a Series object\n",
        "\n",
        "print(data['x2'])\n",
        "print(type(data['x2']))"
      ]
    },
    {
      "cell_type": "markdown",
      "metadata": {},
      "source": [
        "Accessing entire row"
      ]
    },
    {
      "cell_type": "code",
      "execution_count": 49,
      "metadata": {},
      "outputs": [
        {
          "name": "stdout",
          "output_type": "stream",
          "text": [
            "Row 3 of data table:\n",
            "x1   -0.449954\n",
            "x2    1.449757\n",
            "x3    2.305450\n",
            "Name: 2, dtype: float64\n",
            "<class 'pandas.core.series.Series'>\n",
            "\n",
            "Row 3 of car data table:\n",
            "make                  Toyota\n",
            "model                  Camry\n",
            "MSRP                   23495\n",
            "year                    2018\n",
            "dealership    Spartan Toyota\n",
            "Name: 3, dtype: object\n"
          ]
        }
      ],
      "source": [
        "# accessing an entire row will return a Series object\n",
        "\n",
        "print('Row 3 of data table:')\n",
        "print(data.iloc[2])       # returns the 3rd row of DataFrame\n",
        "print(type(data.iloc[2]))\n",
        "\n",
        "print('\\nRow 3 of car data table:')\n",
        "print(carData2.iloc[2])   # row contains objects of different types"
      ]
    },
    {
      "cell_type": "markdown",
      "metadata": {},
      "source": [
        "Accessing a specific element of the dataframe"
      ]
    },
    {
      "cell_type": "code",
      "execution_count": 50,
      "metadata": {},
      "outputs": [
        {
          "name": "stdout",
          "output_type": "stream",
          "text": [
            "carData2 =\n",
            "      make    model   MSRP  year      dealership\n",
            "1    Ford   Taurus  27595  2018   Courtesy Ford\n",
            "2   Honda   Accord  23570  2018   Capital Honda\n",
            "3  Toyota    Camry  23495  2018  Spartan Toyota\n",
            "4   Tesla  Model S  68000  2018             N/A\n",
            "\n",
            "carData2.iloc[1,2] = 23570\n",
            "carData2.loc[1,'model'] = Taurus\n",
            "\n",
            "carData2.iloc[1:3,1:3]=\n",
            "    model   MSRP\n",
            "2  Accord  23570\n",
            "3   Camry  23495\n"
          ]
        }
      ],
      "source": [
        "# accessing a specific element of the DataFrame\n",
        "\n",
        "print('carData2 =\\n', carData2)\n",
        "\n",
        "print('\\ncarData2.iloc[1,2] =', carData2.iloc[1,2])                # retrieving second row, third column\n",
        "print('carData2.loc[1,\\'model\\'] =', carData2.loc[1,'model'])    # retrieving second row, column named 'model'\n",
        "\n",
        "# accessing a slice of the DataFrame\n",
        "\n",
        "print('\\ncarData2.iloc[1:3,1:3]=')\n",
        "print(carData2.iloc[1:3,1:3])"
      ]
    },
    {
      "cell_type": "code",
      "execution_count": 52,
      "metadata": {},
      "outputs": [
        {
          "name": "stdout",
          "output_type": "stream",
          "text": [
            "carData2 =\n",
            "      make    model   MSRP  year      dealership\n",
            "1    Ford   Taurus  27595  2018   Courtesy Ford\n",
            "2   Honda   Accord  23570  2018   Capital Honda\n",
            "3  Toyota    Camry  23495  2018  Spartan Toyota\n",
            "4   Tesla  Model S  68000  2018             N/A \n",
            "\n",
            "carData2.shape = (4, 5)\n",
            "carData2.size = 20\n"
          ]
        }
      ],
      "source": [
        "print('carData2 =\\n', carData2, '\\n')\n",
        "\n",
        "print('carData2.shape =', carData2.shape)\n",
        "print('carData2.size =', carData2.size)"
      ]
    },
    {
      "cell_type": "markdown",
      "metadata": {},
      "source": [
        "Selecting and filtering the rows"
      ]
    },
    {
      "cell_type": "code",
      "execution_count": 53,
      "metadata": {},
      "outputs": [
        {
          "name": "stdout",
          "output_type": "stream",
          "text": [
            "carData2 =\n",
            "      make    model   MSRP  year      dealership\n",
            "1    Ford   Taurus  27595  2018   Courtesy Ford\n",
            "2   Honda   Accord  23570  2018   Capital Honda\n",
            "3  Toyota    Camry  23495  2018  Spartan Toyota\n",
            "4   Tesla  Model S  68000  2018             N/A \n",
            "\n",
            "carData2[carData2.MSRP > 25000] =\n",
            "    make    model   MSRP  year     dealership\n",
            "1   Ford   Taurus  27595  2018  Courtesy Ford\n",
            "4  Tesla  Model S  68000  2018            N/A\n"
          ]
        }
      ],
      "source": [
        "# selection and filtering\n",
        "\n",
        "print('carData2 =\\n', carData2, '\\n')\n",
        "\n",
        "print('carData2[carData2.MSRP > 25000] =')  \n",
        "print(carData2[carData2.MSRP > 25000])"
      ]
    }
  ],
  "metadata": {
    "kernelspec": {
      "display_name": "Python 3",
      "language": "python",
      "name": "python3"
    },
    "language_info": {
      "codemirror_mode": {
        "name": "ipython",
        "version": 3
      },
      "file_extension": ".py",
      "mimetype": "text/x-python",
      "name": "python",
      "nbconvert_exporter": "python",
      "pygments_lexer": "ipython3",
      "version": "3.10.7"
    },
    "orig_nbformat": 4
  },
  "nbformat": 4,
  "nbformat_minor": 2
}
